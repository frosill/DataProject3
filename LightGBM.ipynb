{
 "cells": [
  {
   "cell_type": "code",
   "execution_count": 1,
   "id": "bbaa0df6-9feb-4687-9de2-c4c6867798fc",
   "metadata": {},
   "outputs": [],
   "source": [
    "# Import libraries\n",
    "%matplotlib inline\n",
    "import numpy as np\n",
    "import matplotlib.pyplot as plt\n",
    "import pandas as pd \n",
    "import multiprocessing\n",
    "import timeit\n",
    "\n",
    "from sklearn.impute import KNNImputer\n",
    "from sklearn.preprocessing import scale\n",
    "from sklearn.preprocessing import OneHotEncoder\n",
    "from imblearn.over_sampling import SMOTE\n",
    "from sklearn.metrics import confusion_matrix, ConfusionMatrixDisplay\n",
    "from sklearn.metrics import roc_auc_score, f1_score\n",
    "from sklearn.model_selection import  train_test_split\n",
    "from imblearn.combine import SMOTETomek"
   ]
  },
  {
   "cell_type": "code",
   "execution_count": 2,
   "id": "d0b68600-7c4f-46a7-a53e-7d35c0d4389d",
   "metadata": {},
   "outputs": [],
   "source": [
    "def balanced_test_split(X, y, n_samples=10, seed=1):\n",
    "    test_idx = np.array([])\n",
    "\n",
    "    for n in  y.unique():\n",
    "        test_idx = np.concatenate([test_idx, X[y == n].sample(n_samples, random_state=seed).index], axis=0)\n",
    "        \n",
    "    X_v = X.loc[test_idx, :]\n",
    "    y_v = y[test_idx]\n",
    "    X_t = X.drop(index=test_idx)\n",
    "    y_t = y.drop(index=test_idx)\n",
    "\n",
    "    return (X_t, y_t, X_v, y_v)"
   ]
  },
  {
   "cell_type": "code",
   "execution_count": 3,
   "id": "d0205904-b33b-4b95-992c-466ca53ba1da",
   "metadata": {},
   "outputs": [
    {
     "data": {
      "text/plain": [
       "(747, 22)"
      ]
     },
     "execution_count": 3,
     "metadata": {},
     "output_type": "execute_result"
    }
   ],
   "source": [
    "data = pd.read_csv('datasets/dataset_clean.csv')\n",
    "data = data.drop('slope', axis = 1)\n",
    "X_test = pd.read_csv('datasets/test_dataset_clean.csv')\n",
    "#X_test = X_test.drop('risks', axis = 1)\n",
    "\n",
    "data_us = data.copy()\n",
    "data_us = data_us.drop(data_us[(data_us['label'] == 0) & ( (data_us['risks'] >= 5 ) ) ].index) ## Los que label sea 0 y que el riesgo sea mayor o iagual a 5\n",
    "data_us = data_us.drop(data_us[(data_us['label'] == 1) & ( (data_us['risks'] >= 11 ) ) ].index) ## Los que label sea 1 y que el riesgo sea mayor o iagual a 7\n",
    "data_us = data_us.drop(data_us[(data_us['label'] != 0) & (data_us['risks'] <= 1)].index) ## Los que label sea distinta de 0 y que el riesgo sea menor o igual que 1\n",
    "data_us = data_us.drop(data_us[(data_us['risks'] == 0) & (data_us['label'] != 0)].index) ## Los que no tengan riesgo y que su label sea distinta de 0\n",
    "data_us = data_us.reset_index(drop=True)\n",
    "#data_us = data.drop('risks', axis = 1)\n",
    "data_us.shape \n",
    "# 741, 23"
   ]
  },
  {
   "cell_type": "code",
   "execution_count": 4,
   "id": "975a80d3-2735-4289-8b84-dfaeaf1cfb67",
   "metadata": {},
   "outputs": [
    {
     "name": "stdout",
     "output_type": "stream",
     "text": [
      "<class 'pandas.core.frame.DataFrame'>\n",
      "RangeIndex: 747 entries, 0 to 746\n",
      "Data columns (total 22 columns):\n",
      " #   Column        Non-Null Count  Dtype  \n",
      "---  ------        --------------  -----  \n",
      " 0   age           747 non-null    float64\n",
      " 1   sex           747 non-null    float64\n",
      " 2   cp            747 non-null    float64\n",
      " 3   trestbps      747 non-null    float64\n",
      " 4   chol          747 non-null    float64\n",
      " 5   fbs           747 non-null    float64\n",
      " 6   restecg       747 non-null    float64\n",
      " 7   thalach       747 non-null    float64\n",
      " 8   exang         747 non-null    float64\n",
      " 9   oldpeak       747 non-null    float64\n",
      " 10  ca            747 non-null    float64\n",
      " 11  thal          747 non-null    float64\n",
      " 12  num_na_count  747 non-null    int64  \n",
      " 13  cat_na_count  747 non-null    int64  \n",
      " 14  na_count      747 non-null    int64  \n",
      " 15  age2          747 non-null    float64\n",
      " 16  oldpeak2      747 non-null    int64  \n",
      " 17  thalach_max   747 non-null    float64\n",
      " 18  thalach_diff  747 non-null    float64\n",
      " 19  oldpeak_diff  747 non-null    float64\n",
      " 20  risks         747 non-null    int64  \n",
      " 21  label         747 non-null    int64  \n",
      "dtypes: float64(16), int64(6)\n",
      "memory usage: 128.5 KB\n"
     ]
    }
   ],
   "source": [
    "data_us.info()"
   ]
  },
  {
   "cell_type": "code",
   "execution_count": 5,
   "id": "e9cebca3-3dcb-45f8-9fd4-be705310f6a6",
   "metadata": {
    "slideshow": {
     "slide_type": "subslide"
    },
    "tags": []
   },
   "outputs": [],
   "source": [
    "categorical_vars = ['sex', 'exang', 'thal', 'fbs', 'restecg',  'cp', 'ca'] \n",
    "numerical_vars = ['age', 'trestbps', 'chol',  'thalach_diff', 'oldpeak', 'num_na_count', 'cat_na_count', 'thalach_max'] #'oldpeak_diff', 'thalach',\n",
    "\n",
    "X = data_us\n",
    "y = data_us['label']\n",
    "X = X.drop('label', axis = 1)\n",
    "\n",
    "X[categorical_vars] = (X[categorical_vars].astype(int)) # minmax_scale\n",
    "X[numerical_vars] = scale(X[numerical_vars])\n",
    "X = pd.concat([X[numerical_vars],X[categorical_vars]], axis=1)\n",
    "\n",
    "X_test[categorical_vars] = (X_test[categorical_vars].astype(int)) # minmax_scale\n",
    "X_test[numerical_vars] = scale(X_test[numerical_vars])\n",
    "X_test = pd.concat([X_test[numerical_vars], X_test[categorical_vars]], axis=1)"
   ]
  },
  {
   "cell_type": "code",
   "execution_count": 6,
   "id": "0689b5f1-0dcb-4394-a03b-2cfa21420d40",
   "metadata": {},
   "outputs": [
    {
     "name": "stdout",
     "output_type": "stream",
     "text": [
      "<class 'pandas.core.frame.DataFrame'>\n",
      "RangeIndex: 747 entries, 0 to 746\n",
      "Data columns (total 15 columns):\n",
      " #   Column        Non-Null Count  Dtype  \n",
      "---  ------        --------------  -----  \n",
      " 0   age           747 non-null    float64\n",
      " 1   trestbps      747 non-null    float64\n",
      " 2   chol          747 non-null    float64\n",
      " 3   thalach_diff  747 non-null    float64\n",
      " 4   oldpeak       747 non-null    float64\n",
      " 5   num_na_count  747 non-null    float64\n",
      " 6   cat_na_count  747 non-null    float64\n",
      " 7   thalach_max   747 non-null    float64\n",
      " 8   sex           747 non-null    int32  \n",
      " 9   exang         747 non-null    int32  \n",
      " 10  thal          747 non-null    int32  \n",
      " 11  fbs           747 non-null    int32  \n",
      " 12  restecg       747 non-null    int32  \n",
      " 13  cp            747 non-null    int32  \n",
      " 14  ca            747 non-null    int32  \n",
      "dtypes: float64(8), int32(7)\n",
      "memory usage: 67.2 KB\n"
     ]
    }
   ],
   "source": [
    "X.info()"
   ]
  },
  {
   "cell_type": "code",
   "execution_count": 7,
   "id": "987b2cc7-0ecb-47b9-805e-94aec741f846",
   "metadata": {},
   "outputs": [
    {
     "name": "stdout",
     "output_type": "stream",
     "text": [
      "<class 'pandas.core.frame.DataFrame'>\n",
      "RangeIndex: 747 entries, 0 to 746\n",
      "Data columns (total 25 columns):\n",
      " #   Column        Non-Null Count  Dtype  \n",
      "---  ------        --------------  -----  \n",
      " 0   sex_1         747 non-null    float64\n",
      " 1   exang_2       747 non-null    float64\n",
      " 2   thal_3        747 non-null    float64\n",
      " 3   thal_6        747 non-null    float64\n",
      " 4   thal_7        747 non-null    float64\n",
      " 5   fbs_1         747 non-null    float64\n",
      " 6   fbs_2         747 non-null    float64\n",
      " 7   restecg_1     747 non-null    float64\n",
      " 8   restecg_2     747 non-null    float64\n",
      " 9   restecg_3     747 non-null    float64\n",
      " 10  cp_2          747 non-null    float64\n",
      " 11  cp_3          747 non-null    float64\n",
      " 12  cp_4          747 non-null    float64\n",
      " 13  ca_1          747 non-null    float64\n",
      " 14  ca_2          747 non-null    float64\n",
      " 15  ca_3          747 non-null    float64\n",
      " 16  ca_4          747 non-null    float64\n",
      " 17  age           747 non-null    float64\n",
      " 18  trestbps      747 non-null    float64\n",
      " 19  chol          747 non-null    float64\n",
      " 20  thalach_diff  747 non-null    float64\n",
      " 21  oldpeak       747 non-null    float64\n",
      " 22  num_na_count  747 non-null    float64\n",
      " 23  cat_na_count  747 non-null    float64\n",
      " 24  thalach_max   747 non-null    float64\n",
      "dtypes: float64(25)\n",
      "memory usage: 146.0 KB\n"
     ]
    },
    {
     "name": "stderr",
     "output_type": "stream",
     "text": [
      "C:\\Users\\Usuario\\anaconda3\\lib\\site-packages\\sklearn\\preprocessing\\_encoders.py:868: FutureWarning: `sparse` was renamed to `sparse_output` in version 1.2 and will be removed in 1.4. `sparse_output` is ignored unless you leave `sparse` to its default value.\n",
      "  warnings.warn(\n",
      "C:\\Users\\Usuario\\anaconda3\\lib\\site-packages\\sklearn\\preprocessing\\_encoders.py:868: FutureWarning: `sparse` was renamed to `sparse_output` in version 1.2 and will be removed in 1.4. `sparse_output` is ignored unless you leave `sparse` to its default value.\n",
      "  warnings.warn(\n",
      "C:\\Users\\Usuario\\anaconda3\\lib\\site-packages\\sklearn\\preprocessing\\_encoders.py:868: FutureWarning: `sparse` was renamed to `sparse_output` in version 1.2 and will be removed in 1.4. `sparse_output` is ignored unless you leave `sparse` to its default value.\n",
      "  warnings.warn(\n",
      "C:\\Users\\Usuario\\anaconda3\\lib\\site-packages\\sklearn\\preprocessing\\_encoders.py:868: FutureWarning: `sparse` was renamed to `sparse_output` in version 1.2 and will be removed in 1.4. `sparse_output` is ignored unless you leave `sparse` to its default value.\n",
      "  warnings.warn(\n"
     ]
    }
   ],
   "source": [
    "# ahora aplicamos OHE a las variables categóricas\n",
    "ohe = OneHotEncoder(drop= 'first', sparse = False)\n",
    "\n",
    "ohe_fit = ohe.fit(X[categorical_vars])\n",
    "ohe_fit_test = ohe.fit(X_test[categorical_vars])\n",
    "\n",
    "X_ohe = pd.DataFrame(ohe.fit_transform(X[categorical_vars]))\n",
    "X_ohe_test = pd.DataFrame(ohe.fit_transform(X_test[categorical_vars]))\n",
    "\n",
    "X_ohe.columns = ohe_fit.get_feature_names_out()\n",
    "X_ohe_test.columns = ohe_fit_test.get_feature_names_out()\n",
    "\n",
    "\n",
    "X = pd.concat((X_ohe, X[numerical_vars].reset_index()), axis=1)\n",
    "X_test = pd.concat((X_ohe_test, X_test[numerical_vars].reset_index()), axis=1)\n",
    "\n",
    "X.set_index('index')\n",
    "X_test.set_index('index')\n",
    "\n",
    "X.drop('index', axis=1, inplace=True)\n",
    "X_test.drop('index', axis=1, inplace=True)\n",
    "\n",
    "X.info()"
   ]
  },
  {
   "cell_type": "code",
   "execution_count": 8,
   "id": "c5c84b64-0952-4c8f-90fb-64630a506ccd",
   "metadata": {},
   "outputs": [],
   "source": [
    "# Aplicamos SMOTE y dividimos el dataset en train y validación\n",
    "sm = SMOTE(sampling_strategy={4: 93}, random_state = 1, k_neighbors = 3) \n",
    "Xsm, ysm = sm.fit_resample(X, y)\n",
    "\n",
    "X_train, y_train, X_val, y_val = balanced_test_split(Xsm, ysm, n_samples=10, seed=765)"
   ]
  },
  {
   "cell_type": "code",
   "execution_count": 9,
   "id": "5716dd83-87d4-4895-af80-320efe96411a",
   "metadata": {},
   "outputs": [
    {
     "name": "stdout",
     "output_type": "stream",
     "text": [
      "(757, 25)\n",
      "(757,)\n",
      "(50, 25)\n",
      "(50,)\n"
     ]
    }
   ],
   "source": [
    "print(X_train.shape)\n",
    "print(y_train.shape)\n",
    "print(X_val.shape)\n",
    "print(y_val.shape)"
   ]
  },
  {
   "cell_type": "markdown",
   "id": "a2c8ae17-71e3-4f11-b7c6-0e3c615ea1f1",
   "metadata": {},
   "source": [
    "### Modelos"
   ]
  },
  {
   "cell_type": "code",
   "execution_count": 10,
   "id": "57e199e2-074a-4f58-b9fb-ab429f8ee8f3",
   "metadata": {},
   "outputs": [
    {
     "name": "stdout",
     "output_type": "stream",
     "text": [
      "Requirement already satisfied: lightgbm in c:\\users\\usuario\\anaconda3\\lib\\site-packages (3.3.5)\n",
      "Requirement already satisfied: scikit-learn!=0.22.0 in c:\\users\\usuario\\anaconda3\\lib\\site-packages (from lightgbm) (1.2.2)\n"
     ]
    },
    {
     "name": "stderr",
     "output_type": "stream",
     "text": [
      "WARNING: Ignoring invalid distribution -illow (c:\\users\\usuario\\anaconda3\\lib\\site-packages)\n",
      "WARNING: Ignoring invalid distribution -illow (c:\\users\\usuario\\anaconda3\\lib\\site-packages)\n",
      "WARNING: Ignoring invalid distribution -illow (c:\\users\\usuario\\anaconda3\\lib\\site-packages)\n",
      "WARNING: Ignoring invalid distribution -illow (c:\\users\\usuario\\anaconda3\\lib\\site-packages)\n",
      "WARNING: Ignoring invalid distribution -illow (c:\\users\\usuario\\anaconda3\\lib\\site-packages)\n",
      "WARNING: Ignoring invalid distribution -illow (c:\\users\\usuario\\anaconda3\\lib\\site-packages)\n"
     ]
    },
    {
     "name": "stdout",
     "output_type": "stream",
     "text": [
      "Requirement already satisfied: numpy in c:\\users\\usuario\\anaconda3\\lib\\site-packages (from lightgbm) (1.21.5)\n",
      "Requirement already satisfied: scipy in c:\\users\\usuario\\anaconda3\\lib\\site-packages (from lightgbm) (1.7.3)\n",
      "Requirement already satisfied: wheel in c:\\users\\usuario\\anaconda3\\lib\\site-packages (from lightgbm) (0.37.1)\n",
      "Requirement already satisfied: threadpoolctl>=2.0.0 in c:\\users\\usuario\\anaconda3\\lib\\site-packages (from scikit-learn!=0.22.0->lightgbm) (2.2.0)\n",
      "Requirement already satisfied: joblib>=1.1.1 in c:\\users\\usuario\\anaconda3\\lib\\site-packages (from scikit-learn!=0.22.0->lightgbm) (1.2.0)\n"
     ]
    }
   ],
   "source": [
    "!pip install lightgbm --upgrade"
   ]
  },
  {
   "cell_type": "code",
   "execution_count": 11,
   "id": "49b58e79-9044-4cf9-8eb4-4249d160abbc",
   "metadata": {},
   "outputs": [],
   "source": [
    "import lightgbm as lgb\n",
    "from sklearn.model_selection import GridSearchCV"
   ]
  },
  {
   "cell_type": "code",
   "execution_count": 12,
   "id": "d821188b-34d4-46e4-b30a-6e1710d3151b",
   "metadata": {},
   "outputs": [],
   "source": [
    "scale_pos_weight = sum(np.array(y_train == 0)) / sum(np.array(y_train == 4))"
   ]
  },
  {
   "cell_type": "code",
   "execution_count": 13,
   "id": "b5b4501b-6375-4d83-8c06-d41096db8372",
   "metadata": {},
   "outputs": [],
   "source": [
    "# Metric import\n",
    "from sklearn.metrics import f1_score as metric"
   ]
  },
  {
   "cell_type": "code",
   "execution_count": 14,
   "id": "e5b763e2-cb0e-40aa-9fcd-cca1112c7f60",
   "metadata": {},
   "outputs": [],
   "source": [
    "#Hay que transformar los datasets a un formato específico\n",
    "X_train.columns = [\"var_\" + str(x) for x in range(X.shape[1])]\n",
    "X_val.columns = [\"var_\" + str(x) for x in range(X.shape[1])]\n",
    "X_test.columns = [\"var_\" + str(x) for x in range(X.shape[1])]\n",
    "train_data = lgb.Dataset(data = X_train, label = y_train)\n",
    "validation_data = train_data.create_valid(data = X_val, label = y_val)"
   ]
  },
  {
   "cell_type": "code",
   "execution_count": 15,
   "id": "0781af3d-74ec-4b95-802a-34c7a86dab70",
   "metadata": {},
   "outputs": [
    {
     "name": "stdout",
     "output_type": "stream",
     "text": [
      "Fitting 5 folds for each of 1 candidates, totalling 5 fits\n",
      "[LightGBM] [Warning] feature_fraction is set=0.8, colsample_bytree=1.0 will be ignored. Current value: feature_fraction=0.8\n",
      "[LightGBM] [Warning] min_gain_to_split is set=0, min_split_gain=0.0 will be ignored. Current value: min_gain_to_split=0\n",
      "Training until validation scores don't improve for 6 rounds\n",
      "Early stopping, best iteration is:\n",
      "[46]\tvalid_0's multi_logloss: 1.1855\n",
      "Best params : {'boosting_type': 'gbdt', 'feature_fraction': 0.8, 'learning_rate': 0.075, 'max_depth': 5, 'min_gain_to_split': 0, 'num_iterations': 55, 'num_leaves': 32, 'scale_pos_weight': 3.566265060240964, 'subsample': 0.9}\n",
      "Best score: 0.5747211571976298\n"
     ]
    },
    {
     "name": "stderr",
     "output_type": "stream",
     "text": [
      "C:\\Users\\Usuario\\anaconda3\\lib\\site-packages\\lightgbm\\engine.py:177: UserWarning: Found `num_iterations` in params. Will use it instead of argument\n",
      "  _log_warning(f\"Found `{alias}` in params. Will use it instead of argument\")\n"
     ]
    }
   ],
   "source": [
    "lgbm = lgb.LGBMClassifier(objective = 'multiclass',\n",
    "                         metric = 'multi_logloss',\n",
    "                         is_unbalance = True,\n",
    "                         num_class = 5)\n",
    "\n",
    "# Entrenamos el modelo (no usamos constructor + fit, sino lgb.train)\n",
    "param = {'num_iterations': [55],\n",
    "         'min_gain_to_split': [0],\n",
    "         'subsample': [0.9],\n",
    "         'num_leaves': [32],\n",
    "         'feature_fraction': [0.8],\n",
    "         'scale_pos_weight': [scale_pos_weight],\n",
    "         'max_depth': [5],\n",
    "         'boosting_type': ['gbdt'], #GradientBoostingDecisionTree\n",
    "         'learning_rate': [0.075]}\n",
    "\n",
    "grid = GridSearchCV(estimator = lgbm,\n",
    "                    param_grid=param,\n",
    "                    scoring = 'f1_micro',\n",
    "                    n_jobs = multiprocessing.cpu_count()-1,\n",
    "                    verbose=True\n",
    "                   )\n",
    "\n",
    "grid.fit(X_train, y_train, eval_set=[(X_val, y_val)], callbacks=[lgb.early_stopping(stopping_rounds = 6)])\n",
    "\n",
    "print(f'Best params : {grid.best_params_}')\n",
    "print(f'Best score: {grid.best_score_}')"
   ]
  },
  {
   "cell_type": "code",
   "execution_count": 16,
   "id": "876f66be-4cac-4ba4-972f-edb34882ca05",
   "metadata": {},
   "outputs": [
    {
     "name": "stdout",
     "output_type": "stream",
     "text": [
      "[LightGBM] [Warning] Accuracy may be bad since you didn't explicitly set num_leaves OR 2^max_depth > num_leaves. (num_leaves=31).\n",
      "[LightGBM] [Warning] Accuracy may be bad since you didn't explicitly set num_leaves OR 2^max_depth > num_leaves. (num_leaves=31).\n",
      "[LightGBM] [Warning] Auto-choosing col-wise multi-threading, the overhead of testing was 0.000664 seconds.\n",
      "You can set `force_col_wise=true` to remove the overhead.\n",
      "[LightGBM] [Info] Total Bins 689\n",
      "[LightGBM] [Info] Number of data points in the train set: 757, number of used features: 25\n",
      "[LightGBM] [Warning] Accuracy may be bad since you didn't explicitly set num_leaves OR 2^max_depth > num_leaves. (num_leaves=31).\n",
      "[LightGBM] [Info] Start training from score -0.939004\n",
      "[LightGBM] [Info] Start training from score -1.573117\n",
      "[LightGBM] [Info] Start training from score -1.947232\n",
      "[LightGBM] [Info] Start training from score -1.901975\n",
      "[LightGBM] [Info] Start training from score -2.210523\n",
      "[LightGBM] [Warning] No further splits with positive gain, best gain: -inf\n",
      "[LightGBM] [Warning] No further splits with positive gain, best gain: -inf\n",
      "[LightGBM] [Warning] No further splits with positive gain, best gain: -inf\n",
      "[LightGBM] [Warning] No further splits with positive gain, best gain: -inf\n",
      "[LightGBM] [Warning] No further splits with positive gain, best gain: -inf\n",
      "Training until validation scores don't improve for 6 rounds\n",
      "[LightGBM] [Warning] No further splits with positive gain, best gain: -inf\n",
      "[LightGBM] [Warning] No further splits with positive gain, best gain: -inf\n",
      "[LightGBM] [Warning] No further splits with positive gain, best gain: -inf\n",
      "[LightGBM] [Warning] No further splits with positive gain, best gain: -inf\n",
      "[LightGBM] [Warning] No further splits with positive gain, best gain: -inf\n",
      "[LightGBM] [Warning] No further splits with positive gain, best gain: -inf\n",
      "[LightGBM] [Warning] No further splits with positive gain, best gain: -inf\n",
      "[LightGBM] [Warning] No further splits with positive gain, best gain: -inf\n",
      "[LightGBM] [Warning] No further splits with positive gain, best gain: -inf\n",
      "[LightGBM] [Warning] No further splits with positive gain, best gain: -inf\n",
      "[LightGBM] [Warning] No further splits with positive gain, best gain: -inf\n",
      "[LightGBM] [Warning] No further splits with positive gain, best gain: -inf\n",
      "[LightGBM] [Warning] No further splits with positive gain, best gain: -inf\n",
      "[LightGBM] [Warning] No further splits with positive gain, best gain: -inf\n",
      "[LightGBM] [Warning] No further splits with positive gain, best gain: -inf\n",
      "[LightGBM] [Warning] No further splits with positive gain, best gain: -inf\n",
      "[LightGBM] [Warning] No further splits with positive gain, best gain: -inf\n",
      "[LightGBM] [Warning] No further splits with positive gain, best gain: -inf\n",
      "[LightGBM] [Warning] No further splits with positive gain, best gain: -inf\n",
      "[LightGBM] [Warning] No further splits with positive gain, best gain: -inf\n",
      "[LightGBM] [Warning] No further splits with positive gain, best gain: -inf\n",
      "[LightGBM] [Warning] No further splits with positive gain, best gain: -inf\n",
      "[LightGBM] [Warning] No further splits with positive gain, best gain: -inf\n",
      "[LightGBM] [Warning] No further splits with positive gain, best gain: -inf\n",
      "[LightGBM] [Warning] No further splits with positive gain, best gain: -inf\n",
      "[LightGBM] [Warning] No further splits with positive gain, best gain: -inf\n",
      "[LightGBM] [Warning] No further splits with positive gain, best gain: -inf\n",
      "[LightGBM] [Warning] No further splits with positive gain, best gain: -inf\n",
      "[LightGBM] [Warning] No further splits with positive gain, best gain: -inf\n",
      "[LightGBM] [Warning] No further splits with positive gain, best gain: -inf\n",
      "[LightGBM] [Warning] No further splits with positive gain, best gain: -inf\n",
      "[LightGBM] [Warning] No further splits with positive gain, best gain: -inf\n",
      "[LightGBM] [Warning] No further splits with positive gain, best gain: -inf\n",
      "[LightGBM] [Warning] No further splits with positive gain, best gain: -inf\n",
      "[LightGBM] [Warning] No further splits with positive gain, best gain: -inf\n",
      "[LightGBM] [Warning] No further splits with positive gain, best gain: -inf\n",
      "[LightGBM] [Warning] No further splits with positive gain, best gain: -inf\n",
      "[LightGBM] [Warning] No further splits with positive gain, best gain: -inf\n",
      "[LightGBM] [Warning] No further splits with positive gain, best gain: -inf\n",
      "[LightGBM] [Warning] No further splits with positive gain, best gain: -inf\n",
      "[LightGBM] [Warning] No further splits with positive gain, best gain: -inf\n",
      "[LightGBM] [Warning] No further splits with positive gain, best gain: -inf\n",
      "[LightGBM] [Warning] No further splits with positive gain, best gain: -inf\n",
      "[LightGBM] [Warning] No further splits with positive gain, best gain: -inf\n",
      "[LightGBM] [Warning] No further splits with positive gain, best gain: -inf\n",
      "[LightGBM] [Warning] No further splits with positive gain, best gain: -inf\n",
      "[LightGBM] [Warning] No further splits with positive gain, best gain: -inf\n",
      "[LightGBM] [Warning] No further splits with positive gain, best gain: -inf\n",
      "[LightGBM] [Warning] No further splits with positive gain, best gain: -inf\n",
      "[LightGBM] [Warning] No further splits with positive gain, best gain: -inf\n",
      "[LightGBM] [Warning] No further splits with positive gain, best gain: -inf\n",
      "[LightGBM] [Warning] No further splits with positive gain, best gain: -inf\n",
      "[LightGBM] [Warning] No further splits with positive gain, best gain: -inf\n",
      "[LightGBM] [Warning] No further splits with positive gain, best gain: -inf\n",
      "[LightGBM] [Warning] No further splits with positive gain, best gain: -inf\n",
      "[LightGBM] [Warning] No further splits with positive gain, best gain: -inf\n",
      "[LightGBM] [Warning] No further splits with positive gain, best gain: -inf\n",
      "[LightGBM] [Warning] No further splits with positive gain, best gain: -inf\n",
      "[LightGBM] [Warning] No further splits with positive gain, best gain: -inf\n",
      "[LightGBM] [Warning] No further splits with positive gain, best gain: -inf\n",
      "[LightGBM] [Warning] No further splits with positive gain, best gain: -inf\n",
      "[LightGBM] [Warning] No further splits with positive gain, best gain: -inf\n",
      "[LightGBM] [Warning] No further splits with positive gain, best gain: -inf\n",
      "[LightGBM] [Warning] No further splits with positive gain, best gain: -inf\n",
      "[LightGBM] [Warning] No further splits with positive gain, best gain: -inf\n",
      "[LightGBM] [Warning] No further splits with positive gain, best gain: -inf\n",
      "[LightGBM] [Warning] No further splits with positive gain, best gain: -inf\n",
      "[LightGBM] [Warning] No further splits with positive gain, best gain: -inf\n",
      "[LightGBM] [Warning] No further splits with positive gain, best gain: -inf\n",
      "[LightGBM] [Warning] No further splits with positive gain, best gain: -inf\n",
      "[LightGBM] [Warning] No further splits with positive gain, best gain: -inf\n",
      "[LightGBM] [Warning] No further splits with positive gain, best gain: -inf\n",
      "[LightGBM] [Warning] No further splits with positive gain, best gain: -inf\n",
      "[LightGBM] [Warning] No further splits with positive gain, best gain: -inf\n",
      "[LightGBM] [Warning] No further splits with positive gain, best gain: -inf\n",
      "[LightGBM] [Warning] No further splits with positive gain, best gain: -inf\n",
      "[LightGBM] [Warning] No further splits with positive gain, best gain: -inf\n",
      "[LightGBM] [Warning] No further splits with positive gain, best gain: -inf\n",
      "[LightGBM] [Warning] No further splits with positive gain, best gain: -inf\n",
      "[LightGBM] [Warning] No further splits with positive gain, best gain: -inf\n",
      "[LightGBM] [Warning] No further splits with positive gain, best gain: -inf\n",
      "[LightGBM] [Warning] No further splits with positive gain, best gain: -inf\n",
      "[LightGBM] [Warning] No further splits with positive gain, best gain: -inf\n",
      "[LightGBM] [Warning] No further splits with positive gain, best gain: -inf\n",
      "[LightGBM] [Warning] No further splits with positive gain, best gain: -inf\n",
      "[LightGBM] [Warning] No further splits with positive gain, best gain: -inf\n",
      "[LightGBM] [Warning] No further splits with positive gain, best gain: -inf\n",
      "[LightGBM] [Warning] No further splits with positive gain, best gain: -inf\n",
      "[LightGBM] [Warning] No further splits with positive gain, best gain: -inf\n",
      "[LightGBM] [Warning] No further splits with positive gain, best gain: -inf\n",
      "[LightGBM] [Warning] No further splits with positive gain, best gain: -inf\n",
      "[LightGBM] [Warning] No further splits with positive gain, best gain: -inf\n",
      "[LightGBM] [Warning] No further splits with positive gain, best gain: -inf\n",
      "[LightGBM] [Warning] No further splits with positive gain, best gain: -inf\n",
      "[LightGBM] [Warning] No further splits with positive gain, best gain: -inf\n",
      "[LightGBM] [Warning] No further splits with positive gain, best gain: -inf\n",
      "[LightGBM] [Warning] No further splits with positive gain, best gain: -inf\n",
      "[LightGBM] [Warning] No further splits with positive gain, best gain: -inf\n",
      "[LightGBM] [Warning] No further splits with positive gain, best gain: -inf\n",
      "[LightGBM] [Warning] No further splits with positive gain, best gain: -inf\n",
      "[LightGBM] [Warning] No further splits with positive gain, best gain: -inf\n",
      "[LightGBM] [Warning] No further splits with positive gain, best gain: -inf\n",
      "[LightGBM] [Warning] No further splits with positive gain, best gain: -inf\n",
      "[LightGBM] [Warning] No further splits with positive gain, best gain: -inf\n",
      "[LightGBM] [Warning] No further splits with positive gain, best gain: -inf\n",
      "[LightGBM] [Warning] No further splits with positive gain, best gain: -inf\n",
      "[LightGBM] [Warning] No further splits with positive gain, best gain: -inf\n",
      "[LightGBM] [Warning] No further splits with positive gain, best gain: -inf\n",
      "[LightGBM] [Warning] No further splits with positive gain, best gain: -inf\n",
      "[LightGBM] [Warning] No further splits with positive gain, best gain: -inf\n",
      "[LightGBM] [Warning] No further splits with positive gain, best gain: -inf\n",
      "[LightGBM] [Warning] No further splits with positive gain, best gain: -inf\n",
      "[LightGBM] [Warning] No further splits with positive gain, best gain: -inf\n",
      "[LightGBM] [Warning] No further splits with positive gain, best gain: -inf\n",
      "[LightGBM] [Warning] No further splits with positive gain, best gain: -inf\n",
      "[LightGBM] [Warning] No further splits with positive gain, best gain: -inf\n",
      "[LightGBM] [Warning] No further splits with positive gain, best gain: -inf\n",
      "[LightGBM] [Warning] No further splits with positive gain, best gain: -inf\n",
      "[LightGBM] [Warning] No further splits with positive gain, best gain: -inf\n",
      "[LightGBM] [Warning] No further splits with positive gain, best gain: -inf\n",
      "[LightGBM] [Warning] No further splits with positive gain, best gain: -inf\n",
      "[LightGBM] [Warning] No further splits with positive gain, best gain: -inf\n",
      "[LightGBM] [Warning] No further splits with positive gain, best gain: -inf\n",
      "[LightGBM] [Warning] No further splits with positive gain, best gain: -inf\n",
      "[LightGBM] [Warning] No further splits with positive gain, best gain: -inf\n",
      "[LightGBM] [Warning] No further splits with positive gain, best gain: -inf\n",
      "[LightGBM] [Warning] No further splits with positive gain, best gain: -inf\n",
      "[LightGBM] [Warning] No further splits with positive gain, best gain: -inf\n",
      "[LightGBM] [Warning] No further splits with positive gain, best gain: -inf\n",
      "[LightGBM] [Warning] No further splits with positive gain, best gain: -inf\n",
      "[LightGBM] [Warning] No further splits with positive gain, best gain: -inf\n",
      "[LightGBM] [Warning] No further splits with positive gain, best gain: -inf\n",
      "[LightGBM] [Warning] No further splits with positive gain, best gain: -inf\n",
      "[LightGBM] [Warning] No further splits with positive gain, best gain: -inf\n",
      "[LightGBM] [Warning] No further splits with positive gain, best gain: -inf\n",
      "[LightGBM] [Warning] No further splits with positive gain, best gain: -inf\n",
      "[LightGBM] [Warning] No further splits with positive gain, best gain: -inf\n",
      "[LightGBM] [Warning] No further splits with positive gain, best gain: -inf\n",
      "[LightGBM] [Warning] No further splits with positive gain, best gain: -inf\n",
      "[LightGBM] [Warning] No further splits with positive gain, best gain: -inf\n",
      "[LightGBM] [Warning] No further splits with positive gain, best gain: -inf\n",
      "[LightGBM] [Warning] No further splits with positive gain, best gain: -inf\n",
      "[LightGBM] [Warning] No further splits with positive gain, best gain: -inf\n",
      "[LightGBM] [Warning] No further splits with positive gain, best gain: -inf\n",
      "[LightGBM] [Warning] No further splits with positive gain, best gain: -inf\n",
      "[LightGBM] [Warning] No further splits with positive gain, best gain: -inf\n",
      "[LightGBM] [Warning] No further splits with positive gain, best gain: -inf\n",
      "[LightGBM] [Warning] No further splits with positive gain, best gain: -inf\n",
      "[LightGBM] [Warning] No further splits with positive gain, best gain: -inf\n",
      "[LightGBM] [Warning] No further splits with positive gain, best gain: -inf\n",
      "[LightGBM] [Warning] No further splits with positive gain, best gain: -inf\n",
      "[LightGBM] [Warning] No further splits with positive gain, best gain: -inf\n",
      "[LightGBM] [Warning] No further splits with positive gain, best gain: -inf\n",
      "[LightGBM] [Warning] No further splits with positive gain, best gain: -inf\n",
      "[LightGBM] [Warning] No further splits with positive gain, best gain: -inf\n",
      "[LightGBM] [Warning] No further splits with positive gain, best gain: -inf\n",
      "[LightGBM] [Warning] No further splits with positive gain, best gain: -inf\n",
      "[LightGBM] [Warning] No further splits with positive gain, best gain: -inf\n",
      "[LightGBM] [Warning] No further splits with positive gain, best gain: -inf\n",
      "[LightGBM] [Warning] No further splits with positive gain, best gain: -inf\n",
      "[LightGBM] [Warning] No further splits with positive gain, best gain: -inf\n",
      "[LightGBM] [Warning] No further splits with positive gain, best gain: -inf\n",
      "[LightGBM] [Warning] No further splits with positive gain, best gain: -inf\n",
      "[LightGBM] [Warning] No further splits with positive gain, best gain: -inf\n",
      "[LightGBM] [Warning] No further splits with positive gain, best gain: -inf\n",
      "[LightGBM] [Warning] No further splits with positive gain, best gain: -inf\n",
      "[LightGBM] [Warning] No further splits with positive gain, best gain: -inf\n",
      "[LightGBM] [Warning] No further splits with positive gain, best gain: -inf\n",
      "[LightGBM] [Warning] No further splits with positive gain, best gain: -inf\n",
      "[LightGBM] [Warning] No further splits with positive gain, best gain: -inf\n",
      "[LightGBM] [Warning] No further splits with positive gain, best gain: -inf\n",
      "[LightGBM] [Warning] No further splits with positive gain, best gain: -inf\n",
      "[LightGBM] [Warning] No further splits with positive gain, best gain: -inf\n",
      "[LightGBM] [Warning] No further splits with positive gain, best gain: -inf\n",
      "[LightGBM] [Warning] No further splits with positive gain, best gain: -inf\n",
      "[LightGBM] [Warning] No further splits with positive gain, best gain: -inf\n",
      "[LightGBM] [Warning] No further splits with positive gain, best gain: -inf\n",
      "[LightGBM] [Warning] No further splits with positive gain, best gain: -inf\n",
      "[LightGBM] [Warning] No further splits with positive gain, best gain: -inf\n",
      "[LightGBM] [Warning] No further splits with positive gain, best gain: -inf\n",
      "[LightGBM] [Warning] No further splits with positive gain, best gain: -inf\n",
      "[LightGBM] [Warning] No further splits with positive gain, best gain: -inf\n",
      "[LightGBM] [Warning] No further splits with positive gain, best gain: -inf\n",
      "[LightGBM] [Warning] No further splits with positive gain, best gain: -inf\n",
      "[LightGBM] [Warning] No further splits with positive gain, best gain: -inf\n",
      "[LightGBM] [Warning] No further splits with positive gain, best gain: -inf\n",
      "[LightGBM] [Warning] No further splits with positive gain, best gain: -inf\n",
      "[LightGBM] [Warning] No further splits with positive gain, best gain: -inf\n",
      "[LightGBM] [Warning] No further splits with positive gain, best gain: -inf\n",
      "[LightGBM] [Warning] No further splits with positive gain, best gain: -inf\n",
      "[LightGBM] [Warning] No further splits with positive gain, best gain: -inf\n",
      "[LightGBM] [Warning] No further splits with positive gain, best gain: -inf\n",
      "[LightGBM] [Warning] No further splits with positive gain, best gain: -inf\n",
      "[LightGBM] [Warning] No further splits with positive gain, best gain: -inf\n",
      "[LightGBM] [Warning] No further splits with positive gain, best gain: -inf\n",
      "[LightGBM] [Warning] No further splits with positive gain, best gain: -inf\n",
      "[LightGBM] [Warning] No further splits with positive gain, best gain: -inf\n",
      "[LightGBM] [Warning] No further splits with positive gain, best gain: -inf\n",
      "[LightGBM] [Warning] No further splits with positive gain, best gain: -inf\n",
      "[LightGBM] [Warning] No further splits with positive gain, best gain: -inf\n",
      "[LightGBM] [Warning] No further splits with positive gain, best gain: -inf\n",
      "[LightGBM] [Warning] No further splits with positive gain, best gain: -inf\n",
      "[LightGBM] [Warning] No further splits with positive gain, best gain: -inf\n",
      "[LightGBM] [Warning] No further splits with positive gain, best gain: -inf\n",
      "[LightGBM] [Warning] No further splits with positive gain, best gain: -inf\n",
      "[LightGBM] [Warning] No further splits with positive gain, best gain: -inf\n",
      "[LightGBM] [Warning] No further splits with positive gain, best gain: -inf\n",
      "[LightGBM] [Warning] No further splits with positive gain, best gain: -inf\n",
      "[LightGBM] [Warning] No further splits with positive gain, best gain: -inf\n",
      "[LightGBM] [Warning] No further splits with positive gain, best gain: -inf\n",
      "[LightGBM] [Warning] No further splits with positive gain, best gain: -inf\n",
      "[LightGBM] [Warning] No further splits with positive gain, best gain: -inf\n",
      "[LightGBM] [Warning] No further splits with positive gain, best gain: -inf\n",
      "[LightGBM] [Warning] No further splits with positive gain, best gain: -inf\n",
      "[LightGBM] [Warning] No further splits with positive gain, best gain: -inf\n",
      "[LightGBM] [Warning] No further splits with positive gain, best gain: -inf\n",
      "[LightGBM] [Warning] No further splits with positive gain, best gain: -inf\n",
      "[LightGBM] [Warning] No further splits with positive gain, best gain: -inf\n",
      "[LightGBM] [Warning] No further splits with positive gain, best gain: -inf\n",
      "[LightGBM] [Warning] No further splits with positive gain, best gain: -inf\n",
      "[LightGBM] [Warning] No further splits with positive gain, best gain: -inf\n",
      "[LightGBM] [Warning] No further splits with positive gain, best gain: -inf\n",
      "[LightGBM] [Warning] No further splits with positive gain, best gain: -inf\n",
      "[LightGBM] [Warning] No further splits with positive gain, best gain: -inf\n",
      "[LightGBM] [Warning] No further splits with positive gain, best gain: -inf\n",
      "[LightGBM] [Warning] No further splits with positive gain, best gain: -inf\n",
      "[LightGBM] [Warning] No further splits with positive gain, best gain: -inf\n",
      "[LightGBM] [Warning] No further splits with positive gain, best gain: -inf\n",
      "[LightGBM] [Warning] No further splits with positive gain, best gain: -inf\n",
      "[LightGBM] [Warning] No further splits with positive gain, best gain: -inf\n",
      "[LightGBM] [Warning] No further splits with positive gain, best gain: -inf\n",
      "[LightGBM] [Warning] No further splits with positive gain, best gain: -inf\n",
      "[LightGBM] [Warning] No further splits with positive gain, best gain: -inf\n",
      "[LightGBM] [Warning] No further splits with positive gain, best gain: -inf\n",
      "[LightGBM] [Warning] No further splits with positive gain, best gain: -inf\n",
      "[LightGBM] [Warning] No further splits with positive gain, best gain: -inf\n",
      "[LightGBM] [Warning] No further splits with positive gain, best gain: -inf\n",
      "[LightGBM] [Warning] No further splits with positive gain, best gain: -inf\n",
      "[LightGBM] [Warning] No further splits with positive gain, best gain: -inf\n",
      "[LightGBM] [Warning] No further splits with positive gain, best gain: -inf\n",
      "[LightGBM] [Warning] No further splits with positive gain, best gain: -inf\n",
      "[LightGBM] [Warning] No further splits with positive gain, best gain: -inf\n",
      "[LightGBM] [Warning] No further splits with positive gain, best gain: -inf\n",
      "[LightGBM] [Warning] No further splits with positive gain, best gain: -inf\n",
      "[LightGBM] [Warning] No further splits with positive gain, best gain: -inf\n",
      "[LightGBM] [Warning] No further splits with positive gain, best gain: -inf\n",
      "[LightGBM] [Warning] No further splits with positive gain, best gain: -inf\n",
      "[LightGBM] [Warning] No further splits with positive gain, best gain: -inf\n",
      "[LightGBM] [Warning] No further splits with positive gain, best gain: -inf\n",
      "[LightGBM] [Warning] No further splits with positive gain, best gain: -inf\n",
      "[LightGBM] [Warning] No further splits with positive gain, best gain: -inf\n",
      "[LightGBM] [Warning] No further splits with positive gain, best gain: -inf\n",
      "[LightGBM] [Warning] No further splits with positive gain, best gain: -inf\n",
      "[LightGBM] [Warning] No further splits with positive gain, best gain: -inf\n",
      "[LightGBM] [Warning] No further splits with positive gain, best gain: -inf\n",
      "Early stopping, best iteration is:\n",
      "[46]\tvalid_0's multi_logloss: 1.1855\n",
      "F1 score (train): 0.8850726552179656\n",
      "F1 score (val): 0.52\n"
     ]
    }
   ],
   "source": [
    "#best_config =  {'alpha': 1, 'colsample_bytree': 0.1, 'learning_rate': 0.99, 'gamma': 1, 'lambda': 1, 'max_depth': 6, \n",
    "#                'min_child_weight': 20, 'n_estimators': 300, 'subsample': 1}\n",
    "\n",
    "best_config = grid.best_params_\n",
    "\n",
    "param = {'objective' : 'multiclass',\n",
    "        'metric' : 'multi_logloss',\n",
    "        'num_class' : 5,\n",
    "        'num_iterations' : best_config['num_iterations'],\n",
    "        'min_gain_to_split' : best_config['min_gain_to_split'],\n",
    "        'subsample' : best_config['subsample'],\n",
    "        'feature_fraction' : best_config['feature_fraction'],\n",
    "        'scale_pos_weight' : best_config['scale_pos_weight'],\n",
    "        'max_depth' : best_config['max_depth'],\n",
    "        'boosting_type' : best_config['boosting_type'],\n",
    "        'learning_rate' : best_config['learning_rate']}\n",
    "\n",
    "model = lgb.train(param, train_data, valid_sets=[validation_data], callbacks=[lgb.early_stopping(stopping_rounds=6)])\n",
    "\n",
    "pred_y_train = model.predict(X_train) \n",
    "pred_y_val = model.predict(X_val) \n",
    "pred_y_test = model.predict(X_test) \n",
    "\n",
    "y_train_labels = pred_y_train.argmax(axis=1)\n",
    "y_val_labels = pred_y_val.argmax(axis=1)\n",
    "y_test_labels = pred_y_test.argmax(axis=1)\n",
    "\n",
    "print(f\"F1 score (train): {f1_score(y_train, y_train_labels, average='micro')}\")\n",
    "print(f\"F1 score (val): {f1_score(y_val, y_val_labels, average='micro')}\")"
   ]
  },
  {
   "cell_type": "code",
   "execution_count": 17,
   "id": "77f76535-1f0e-4f2a-824b-0736ba952b06",
   "metadata": {},
   "outputs": [
    {
     "data": {
      "text/plain": [
       "<sklearn.metrics._plot.confusion_matrix.ConfusionMatrixDisplay at 0x235305f26a0>"
      ]
     },
     "execution_count": 17,
     "metadata": {},
     "output_type": "execute_result"
    },
    {
     "data": {
      "image/png": "[encoded data removed]",
      "text/plain": [
       "<Figure size 432x288 with 2 Axes>"
      ]
     },
     "metadata": {
      "needs_background": "light"
     },
     "output_type": "display_data"
    }
   ],
   "source": [
    "conf_matrix = confusion_matrix(y_val, y_val_labels)\n",
    "disp = ConfusionMatrixDisplay(confusion_matrix=conf_matrix)\n",
    "disp.plot()"
   ]
  },
  {
   "cell_type": "code",
   "execution_count": 18,
   "id": "5f176eae-2b1d-4e83-8852-2c2ad7002e37",
   "metadata": {},
   "outputs": [],
   "source": [
    "# Generamos df pred\n",
    "pred_df = pd.DataFrame({'ID': range(0, 50), 'label': y_test_labels.astype(int)})\n",
    "pred_df.to_csv('submissions/submission_LGBM8.csv', index=False)"
   ]
  }
 ],
 "metadata": {
  "kernelspec": {
   "display_name": "Python 3 (ipykernel)",
   "language": "python",
   "name": "python3"
  },
  "language_info": {
   "codemirror_mode": {
    "name": "ipython",
    "version": 3
   },
   "file_extension": ".py",
   "mimetype": "text/x-python",
   "name": "python",
   "nbconvert_exporter": "python",
   "pygments_lexer": "ipython3",
   "version": "3.9.12"
  }
 },
 "nbformat": 4,
 "nbformat_minor": 5
}
